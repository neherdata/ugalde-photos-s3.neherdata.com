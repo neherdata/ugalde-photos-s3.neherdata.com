{
 "cells": [
  {
   "cell_type": "code",
   "execution_count": 1,
   "id": "50fe2017-71be-439e-b678-17b2f9e01fd0",
   "metadata": {},
   "outputs": [],
   "source": [
    "from PIL import Image\n",
    "import boto3\n",
    "from botocore.exceptions import NoCredentialsError"
   ]
  },
  {
   "cell_type": "code",
   "execution_count": 8,
   "id": "0fb0994e-191b-4afa-b683-836a9912592f",
   "metadata": {},
   "outputs": [
    {
     "data": {
      "text/plain": [
       "s3.Bucket(name='ugalde-photos-s3')"
      ]
     },
     "execution_count": 8,
     "metadata": {},
     "output_type": "execute_result"
    }
   ],
   "source": [
    "s3_resource = boto3.resource('s3')\n",
    "s3_resource.Bucket('ugalde-photos-s3')"
   ]
  },
  {
   "cell_type": "code",
   "execution_count": null,
   "id": "f76de639",
   "metadata": {},
   "outputs": [],
   "source": []
  }
 ],
 "metadata": {
  "kernelspec": {
   "display_name": ".venv",
   "language": "python",
   "name": "python3"
  },
  "language_info": {
   "codemirror_mode": {
    "name": "ipython",
    "version": 3
   },
   "file_extension": ".py",
   "mimetype": "text/x-python",
   "name": "python",
   "nbconvert_exporter": "python",
   "pygments_lexer": "ipython3",
   "version": "3.11.1"
  }
 },
 "nbformat": 4,
 "nbformat_minor": 5
}
